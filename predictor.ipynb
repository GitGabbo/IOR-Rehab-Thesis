{
 "cells": [
  {
   "cell_type": "code",
   "execution_count": 4,
   "metadata": {},
   "outputs": [],
   "source": [
    "import numpy as np\n",
    "import extracted_data_reader\n",
    "from tsai.all import *"
   ]
  },
  {
   "cell_type": "code",
   "execution_count": 19,
   "metadata": {},
   "outputs": [],
   "source": [
    "ex_number = 2\n",
    "frame_number = \"mean\"\n",
    "test_frame_number = \"\""
   ]
  },
  {
   "cell_type": "code",
   "execution_count": 11,
   "metadata": {},
   "outputs": [],
   "source": [
    "learner_goal = load_learner(f\"models_export/ex{ex_number}/{frame_number}_ex{ex_number}_goal_learner.pkl\")\n",
    "\n",
    "learner_width = load_learner(f\"models_export/ex{ex_number}/{frame_number}_ex{ex_number}_width_learner.pkl\")\n",
    "\n",
    "learner_head = load_learner(f\"models_export/ex{ex_number}/{frame_number}_ex{ex_number}_head_learner.pkl\")\n",
    "\n",
    "learner_shoulder = load_learner(f\"models_export/ex{ex_number}/{frame_number}_ex{ex_number}_shoulders_learner.pkl\")\n",
    "\n",
    "learner_trunk = load_learner(f\"models_export/ex{ex_number}/{frame_number}_ex{ex_number}_trunk_learner.pkl\")\n",
    "\n",
    "learners = [learner_goal, learner_width, learner_head, learner_shoulder, learner_trunk]"
   ]
  },
  {
   "cell_type": "code",
   "execution_count": null,
   "metadata": {},
   "outputs": [],
   "source": [
    "X = extracted_data_reader.read_data_ex(ex_number, test_frame_number, test=True)\n",
    "if test_frame_number == \"\":\n",
    "    res = []\n",
    "    for x in X:\n",
    "        x = x[np.newaxis, ...]\n",
    "        res_video = []\n",
    "        for learner in learners:\n",
    "            _, _, preds = learner.get_X_preds(x)\n",
    "            res_video.append(preds[1])\n",
    "        res.append(res_video)\n",
    "    print(res)\n",
    "else:\n",
    "    res = []\n",
    "    for learner in learners:\n",
    "        probas, target, preds = learner_goal.get_X_preds(np.array(X))\n",
    "        res.append(preds)\n",
    "    res = np.array(res)\n",
    "    print(np.transpose(res))"
   ]
  }
 ],
 "metadata": {
  "kernelspec": {
   "display_name": "Python 3",
   "language": "python",
   "name": "python3"
  },
  "language_info": {
   "codemirror_mode": {
    "name": "ipython",
    "version": 3
   },
   "file_extension": ".py",
   "mimetype": "text/x-python",
   "name": "python",
   "nbconvert_exporter": "python",
   "pygments_lexer": "ipython3",
   "version": "3.11.0"
  },
  "orig_nbformat": 4
 },
 "nbformat": 4,
 "nbformat_minor": 2
}
