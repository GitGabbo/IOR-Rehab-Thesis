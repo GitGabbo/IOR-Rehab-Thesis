{
 "cells": [
  {
   "cell_type": "code",
   "execution_count": 1,
   "id": "14e67d20",
   "metadata": {},
   "outputs": [],
   "source": [
    "import pandas as pd\n",
    "import numpy as np\n",
    "import extracted_data_reader"
   ]
  },
  {
   "cell_type": "code",
   "execution_count": 2,
   "id": "609e8948",
   "metadata": {
    "scrolled": true
   },
   "outputs": [
    {
     "name": "stdout",
     "output_type": "stream",
     "text": [
      "Shortest video: 032 GT.1.2.1.csv\t53\n"
     ]
    }
   ],
   "source": [
    "X = extracted_data_reader.read_data_ex_2(1)\n"
   ]
  },
  {
   "cell_type": "code",
   "execution_count": 3,
   "id": "aa05ab60",
   "metadata": {},
   "outputs": [
    {
     "name": "stderr",
     "output_type": "stream",
     "text": [
      "C:\\Users\\Gabriele\\AppData\\Roaming\\Python\\Python310\\site-packages\\tsai\\imports.py:346: UserWarning: Failed to initialize NumPy: module compiled against API version 0x10 but this version of numpy is 0xf . Check the section C-API incompatibility at the Troubleshooting ImportError section at https://numpy.org/devdocs/user/troubleshooting-importerror.html#c-api-incompatibility for indications on how to solve this problem . (Triggered internally at ..\\torch\\csrc\\utils\\tensor_numpy.cpp:84.)\n",
      "  return torch.device(\"cpu\")\n"
     ]
    }
   ],
   "source": [
    "from tsai.all import *"
   ]
  },
  {
   "cell_type": "code",
   "execution_count": 6,
   "id": "b4fefd37",
   "metadata": {},
   "outputs": [
    {
     "data": {
      "text/plain": [
       "(#285) [(TSTensor([1.0842021724855044e-19], device=cpu, dtype=torch.float32), TensorCategory(0)), (TSTensor([1.7438002824783325], device=cpu, dtype=torch.float32), TensorCategory(0)), (TSTensor([1.0842021078620191e-19], device=cpu, dtype=torch.float32), TensorCategory(0)), (TSTensor([1.7445579767227173], device=cpu, dtype=torch.float32), TensorCategory(0)), (TSTensor([2.0], device=cpu, dtype=torch.float32), TensorCategory(0)), (TSTensor([1.7445838451385498], device=cpu, dtype=torch.float32), TensorCategory(0)), (TSTensor([1.9999998807907104], device=cpu, dtype=torch.float32), TensorCategory(0)), (TSTensor([1.744422435760498], device=cpu, dtype=torch.float32), TensorCategory(0)), (TSTensor([-1.0842021724855044e-19], device=cpu, dtype=torch.float32), TensorCategory(0)), (TSTensor([1.7441548109054565], device=cpu, dtype=torch.float32), TensorCategory(0))] ...]"
      ]
     },
     "execution_count": 6,
     "metadata": {},
     "output_type": "execute_result"
    }
   ],
   "source": [
    "Y = [1 for _ in range(len(X))]\n",
    "splits = [[i for i in range(len(X) //2)], [i for i in range(len(X) // 2, len(X))]]\n",
    "\n",
    "tfms  = [None, [Categorize()]]\n",
    "dsets = TSDatasets(X, Y, tfms=tfms, splits=splits, inplace=True)\n",
    "dsets"
   ]
  }
 ],
 "metadata": {
  "kernelspec": {
   "display_name": "Python 3 (ipykernel)",
   "language": "python",
   "name": "python3"
  },
  "language_info": {
   "codemirror_mode": {
    "name": "ipython",
    "version": 3
   },
   "file_extension": ".py",
   "mimetype": "text/x-python",
   "name": "python",
   "nbconvert_exporter": "python",
   "pygments_lexer": "ipython3",
   "version": "3.10.0"
  }
 },
 "nbformat": 4,
 "nbformat_minor": 5
}
