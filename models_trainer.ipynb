{
 "cells": [
  {
   "cell_type": "code",
   "execution_count": null,
   "metadata": {},
   "outputs": [],
   "source": [
    "import numpy as np\n",
    "import extracted_data_reader\n",
    "from tsai.all import *"
   ]
  },
  {
   "cell_type": "markdown",
   "metadata": {},
   "source": [
    "# Training the model"
   ]
  },
  {
   "cell_type": "code",
   "execution_count": null,
   "metadata": {},
   "outputs": [],
   "source": [
    "# initialization variables\n",
    "show_splitting_dist = False\n",
    "show_images = True\n",
    "find_lr = False\n",
    "\n",
    "ex_number = 1\n",
    "frame_number = \"max\" # mean, max or min\n",
    "epochs_number = 20\n",
    "batch_size = [32, 64, 128]"
   ]
  },
  {
   "cell_type": "code",
   "execution_count": null,
   "metadata": {},
   "outputs": [],
   "source": [
    "# get training data\n",
    "X = np.array(extracted_data_reader.read_data_ex(ex_number=ex_number, frame_number=frame_number))\n",
    "Y = np.array(extracted_data_reader.read_target_ex(ex_number=ex_number))\n",
    "y = np.array([y[:5] for y in Y])\n",
    "\n",
    "X.shape, y.shape"
   ]
  },
  {
   "cell_type": "code",
   "execution_count": null,
   "metadata": {},
   "outputs": [],
   "source": [
    "# split data with leave-one-out cross-validation \n",
    "splits = get_splits(y, n_splits=len(y), shuffle=False, show_plot=show_splitting_dist)"
   ]
  },
  {
   "cell_type": "code",
   "execution_count": null,
   "metadata": {},
   "outputs": [],
   "source": [
    "# create the datasets\n",
    "tfms = [None, TSClassification()]\n",
    "datasets = []\n",
    "for split in splits:\n",
    "    datasets.append(TSDatasets(X, y, splits=split, tfms=tfms, inplace=True))"
   ]
  },
  {
   "cell_type": "code",
   "execution_count": null,
   "metadata": {},
   "outputs": [],
   "source": [
    "# create the data loader from the datasets\n",
    "dls = TSDataLoaders.from_dsets(*datasets, bs=batch_size, batch_tfms=[TSStandardize()], num_workers=0)\n",
    "if show_images: dls.show_batch(sharey=True)"
   ]
  },
  {
   "cell_type": "code",
   "execution_count": null,
   "metadata": {},
   "outputs": [],
   "source": [
    "# create learner of an InceptionTimePlus model\n",
    "learn = ts_learner(dls, 'InceptionTimePlus', metrics=accuracy)"
   ]
  },
  {
   "cell_type": "code",
   "execution_count": null,
   "metadata": {},
   "outputs": [],
   "source": [
    "# fit the model\n",
    "learn.fit_one_cycle(epochs_number, 1e-3)"
   ]
  },
  {
   "cell_type": "code",
   "execution_count": null,
   "metadata": {},
   "outputs": [],
   "source": [
    "# save metrics images of the model \n",
    "image_base_name = f\"C:/Users/Gabriele/Downloads/Uni/IOR-Rehab-Thesis/images/newmodels/ex{ex_number}/ex{ex_number}_{frame_number}\"\n",
    "learn.recorder.plot_metrics(figname=f\"{image_base_name}_metrics.png\")\n",
    "learn.show_results(figname=f\"{image_base_name}_results.png\")\n",
    "# learn.show_probas(figname=f\"{image_base_name}_probas.png\")\n",
    "interp = ClassificationInterpretation.from_learner(learn)\n",
    "interp.plot_confusion_matrix(figname=f\"{image_base_name}_confusion_matrix.png\")"
   ]
  },
  {
   "cell_type": "code",
   "execution_count": null,
   "metadata": {},
   "outputs": [],
   "source": [
    "# save the model\n",
    "learn.export(f\"models/ex{ex_number}_{frame_number}.pkl\")"
   ]
  },
  {
   "cell_type": "markdown",
   "metadata": {},
   "source": [
    "# Testing the model"
   ]
  },
  {
   "cell_type": "code",
   "execution_count": null,
   "metadata": {},
   "outputs": [],
   "source": [
    "# initialize testing variables\n",
    "ex_number_test = 1\n",
    "frame_number_test = \"mean\""
   ]
  },
  {
   "cell_type": "code",
   "execution_count": null,
   "metadata": {},
   "outputs": [],
   "source": [
    "# get testing data\n",
    "X_test = np.array(extracted_data_reader.read_data_ex(ex_number_test, frame_number_test, test=True))"
   ]
  },
  {
   "cell_type": "code",
   "execution_count": null,
   "metadata": {},
   "outputs": [],
   "source": [
    "# load the model \n",
    "learn = load_learner(f\"models/ex{ex_number_test}_{frame_number_test}.pkl\")"
   ]
  },
  {
   "cell_type": "code",
   "execution_count": null,
   "metadata": {},
   "outputs": [],
   "source": [
    "# predict results\n",
    "probas, target, preds = learn.get_X_preds(X_test)\n",
    "preds"
   ]
  }
 ],
 "metadata": {
  "kernelspec": {
   "display_name": "Python 3 (ipykernel)",
   "language": "python",
   "name": "python3"
  },
  "language_info": {
   "codemirror_mode": {
    "name": "ipython",
    "version": 3
   },
   "file_extension": ".py",
   "mimetype": "text/x-python",
   "name": "python",
   "nbconvert_exporter": "python",
   "pygments_lexer": "ipython3",
   "version": "3.11.0"
  }
 },
 "nbformat": 4,
 "nbformat_minor": 2
}
