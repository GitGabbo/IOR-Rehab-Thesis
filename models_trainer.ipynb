{
 "cells": [
  {
   "cell_type": "code",
   "execution_count": 1,
   "metadata": {},
   "outputs": [],
   "source": [
    "import numpy as np\n",
    "import extracted_data_reader\n",
    "from tsai.all import *"
   ]
  },
  {
   "cell_type": "code",
   "execution_count": 2,
   "metadata": {},
   "outputs": [],
   "source": [
    "# initialization variables\n",
    "show_splitting_dist = False\n",
    "show_images = True\n",
    "find_best_lr = False\n",
    "\n",
    "ex_number = 1\n",
    "frame_number = \"max\" # mean, max or min\n",
    "target = \"goal\" # goal, width, head, shoulders or trunk\n",
    "epochs_number = 20\n",
    "batch_size = 32"
   ]
  },
  {
   "cell_type": "code",
   "execution_count": null,
   "metadata": {},
   "outputs": [],
   "source": [
    "X = np.array(extracted_data_reader.read_data_ex(ex_number=ex_number, frame_number=frame_number))\n",
    "Y = np.array(extracted_data_reader.read_target_ex(ex_number=ex_number))\n",
    "y = np.array([y[:5] for y in Y])\n",
    "\n",
    "X.shape, y.shape"
   ]
  },
  {
   "cell_type": "code",
   "execution_count": null,
   "metadata": {},
   "outputs": [],
   "source": [
    "splits = get_splits(y, n_splits=len(y), shuffle=False, show_plot=show_splitting_dist)"
   ]
  },
  {
   "cell_type": "code",
   "execution_count": null,
   "metadata": {},
   "outputs": [],
   "source": [
    "tfms = [None, TSClassification()]\n",
    "datasets = []\n",
    "for split in splits:\n",
    "    datasets.append(TSDatasets(X, y, splits=split, tfms=tfms, inplace=True))"
   ]
  },
  {
   "cell_type": "code",
   "execution_count": null,
   "metadata": {},
   "outputs": [],
   "source": [
    "dls = TSDataLoaders.from_dsets(*datasets, bs=batch_size, batch_tfms=[TSStandardize()], num_workers=0)\n",
    "if show_images: dls.show_batch(sharey=True)"
   ]
  },
  {
   "cell_type": "code",
   "execution_count": null,
   "metadata": {},
   "outputs": [],
   "source": [
    "learn = ts_learner(dls, 'InceptionTimePlus', metrics=accuracy)"
   ]
  },
  {
   "cell_type": "code",
   "execution_count": null,
   "metadata": {},
   "outputs": [],
   "source": [
    "learn.fit_one_cycle(epochs_number, 1e-3)"
   ]
  },
  {
   "cell_type": "code",
   "execution_count": null,
   "metadata": {},
   "outputs": [],
   "source": [
    "image_base_name = f\"C:/Users/Gabriele/Downloads/Uni/IOR-Rehab-Thesis/images/newmodels/ex{ex_number}/ex{ex_number}_{frame_number}\"\n",
    "learn.recorder.plot_metrics(figname=f\"{image_base_name}_metrics.png\")\n",
    "learn.show_results(figname=f\"{image_base_name}_results.png\")\n",
    "# learn.show_probas(figname=f\"{image_base_name}_probas.png\")\n",
    "interp = ClassificationInterpretation.from_learner(learn)\n",
    "interp.plot_confusion_matrix(figname=f\"{image_base_name}_confusion_matrix.png\")"
   ]
  },
  {
   "cell_type": "code",
   "execution_count": 3,
   "metadata": {},
   "outputs": [
    {
     "name": "stdout",
     "output_type": "stream",
     "text": [
      "(6, 18, 380) max\n"
     ]
    }
   ],
   "source": [
    "X_test = np.array(extracted_data_reader.read_data_ex(ex_number, frame_number, test=True))\n",
    "# print(X_test.shape, X.shape)\n",
    "# probas, target, preds = learn.get_X_preds(X_test)\n",
    "# preds"
   ]
  },
  {
   "cell_type": "code",
   "execution_count": null,
   "metadata": {},
   "outputs": [],
   "source": [
    "learn.export(f\"models_without_tab/ex{ex_number}_{frame_number}.pkl\")"
   ]
  },
  {
   "cell_type": "code",
   "execution_count": 4,
   "metadata": {},
   "outputs": [
    {
     "data": {
      "text/html": [
       "\n",
       "<style>\n",
       "    /* Turns off some styling */\n",
       "    progress {\n",
       "        /* gets rid of default border in Firefox and Opera. */\n",
       "        border: none;\n",
       "        /* Needs to be in here for Safari polyfill so background images work as expected. */\n",
       "        background-size: auto;\n",
       "    }\n",
       "    progress:not([value]), progress:not([value])::-webkit-progress-bar {\n",
       "        background: repeating-linear-gradient(45deg, #7e7e7e, #7e7e7e 10px, #5c5c5c 10px, #5c5c5c 20px);\n",
       "    }\n",
       "    .progress-bar-interrupted, .progress-bar-interrupted::-webkit-progress-bar {\n",
       "        background: #F44336;\n",
       "    }\n",
       "</style>\n"
      ],
      "text/plain": [
       "<IPython.core.display.HTML object>"
      ]
     },
     "metadata": {},
     "output_type": "display_data"
    },
    {
     "data": {
      "text/html": [],
      "text/plain": [
       "<IPython.core.display.HTML object>"
      ]
     },
     "metadata": {},
     "output_type": "display_data"
    },
    {
     "data": {
      "text/plain": [
       "array([[4, 3, 5, 4, 5],\n",
       "       [4, 3, 5, 4, 5],\n",
       "       [4, 5, 5, 4, 5],\n",
       "       [4, 5, 5, 4, 5],\n",
       "       [5, 4, 5, 4, 4],\n",
       "       [5, 2, 3, 3, 4]])"
      ]
     },
     "execution_count": 4,
     "metadata": {},
     "output_type": "execute_result"
    }
   ],
   "source": [
    "learn1 = load_learner(f\"models_without_tab/ex{ex_number}_{frame_number}.pkl\")\n",
    "probas, target, preds = learn1.get_X_preds(X_test)\n",
    "preds"
   ]
  },
  {
   "cell_type": "code",
   "execution_count": null,
   "metadata": {},
   "outputs": [],
   "source": [
    "learn=load_learner(\"models_export/ex2/max_ex2_goal_learner.pkl\")"
   ]
  }
 ],
 "metadata": {
  "kernelspec": {
   "display_name": "Python 3 (ipykernel)",
   "language": "python",
   "name": "python3"
  },
  "language_info": {
   "codemirror_mode": {
    "name": "ipython",
    "version": 3
   },
   "file_extension": ".py",
   "mimetype": "text/x-python",
   "name": "python",
   "nbconvert_exporter": "python",
   "pygments_lexer": "ipython3",
   "version": "3.11.0"
  }
 },
 "nbformat": 4,
 "nbformat_minor": 2
}
